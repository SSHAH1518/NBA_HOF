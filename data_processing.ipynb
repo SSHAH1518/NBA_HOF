{
 "cells": [
  {
   "cell_type": "code",
   "id": "initial_id",
   "metadata": {
    "collapsed": true,
    "ExecuteTime": {
     "end_time": "2025-06-10T09:19:53.595567Z",
     "start_time": "2025-06-10T09:19:53.585322Z"
    }
   },
   "source": [
    "import pandas as pd\n",
    "import numpy as np"
   ],
   "outputs": [],
   "execution_count": 202
  },
  {
   "metadata": {
    "ExecuteTime": {
     "end_time": "2025-06-10T09:19:53.626844Z",
     "start_time": "2025-06-10T09:19:53.604694Z"
    }
   },
   "cell_type": "code",
   "source": [
    "df_hof = pd.read_csv('NBA Hall of Famers 2021.csv')\n",
    "df_hof.columns"
   ],
   "id": "353e465c4a5f1d61",
   "outputs": [
    {
     "data": {
      "text/plain": [
       "Index(['Name', 'position', 'All_star_selections', 'In_Hall_of_fame', 'height',\n",
       "       'weight', 'born'],\n",
       "      dtype='object')"
      ]
     },
     "execution_count": 203,
     "metadata": {},
     "output_type": "execute_result"
    }
   ],
   "execution_count": 203
  },
  {
   "metadata": {
    "ExecuteTime": {
     "end_time": "2025-06-10T09:19:53.658841Z",
     "start_time": "2025-06-10T09:19:53.641558Z"
    }
   },
   "cell_type": "code",
   "source": [
    "df_players = pd.read_csv(\"nbaplayersdraft.csv\")\n",
    "df_players.columns"
   ],
   "id": "cd567ccb6cb66270",
   "outputs": [
    {
     "data": {
      "text/plain": [
       "Index(['id', 'year', 'rank', 'overall_pick', 'team', 'player', 'college',\n",
       "       'years_active', 'games', 'minutes_played', 'points', 'total_rebounds',\n",
       "       'assists', 'field_goal_percentage', '3_point_percentage',\n",
       "       'free_throw_percentage', 'average_minutes_played', 'points_per_game',\n",
       "       'average_total_rebounds', 'average_assists', 'win_shares',\n",
       "       'win_shares_per_48_minutes', 'box_plus_minus',\n",
       "       'value_over_replacement'],\n",
       "      dtype='object')"
      ]
     },
     "execution_count": 204,
     "metadata": {},
     "output_type": "execute_result"
    }
   ],
   "execution_count": 204
  },
  {
   "metadata": {
    "ExecuteTime": {
     "end_time": "2025-06-10T09:19:53.705787Z",
     "start_time": "2025-06-10T09:19:53.677644Z"
    }
   },
   "cell_type": "code",
   "source": [
    "df = pd.merge(df_players, df_hof, left_on='player', right_on='Name', how='left')\n",
    "df.head()"
   ],
   "id": "7e880aaca0c12c89",
   "outputs": [
    {
     "data": {
      "text/plain": [
       "   id  year  rank  overall_pick team          player     college  \\\n",
       "0   1  1989     1             1  SAC  Pervis Ellison  Louisville   \n",
       "1   2  1989     2             2  LAC     Danny Ferry        Duke   \n",
       "2   3  1989     3             3  SAS    Sean Elliott     Arizona   \n",
       "3   4  1989     4             4  MIA       Glen Rice    Michigan   \n",
       "4   5  1989     5             5  CHH       J.R. Reid         UNC   \n",
       "\n",
       "   years_active   games  minutes_played  ...  win_shares_per_48_minutes  \\\n",
       "0          11.0   474.0         11593.0  ...                      0.090   \n",
       "1          13.0   917.0         18133.0  ...                      0.092   \n",
       "2          12.0   742.0         24502.0  ...                      0.109   \n",
       "3          15.0  1000.0         34985.0  ...                      0.122   \n",
       "4          11.0   672.0         15370.0  ...                      0.070   \n",
       "\n",
       "   box_plus_minus  value_over_replacement          Name  position  \\\n",
       "0            -0.5                     4.4           NaN       NaN   \n",
       "1            -0.9                     4.9           NaN       NaN   \n",
       "2             0.2                    13.5  Sean Elliott         F   \n",
       "3             0.8                    24.9     Glen Rice         G   \n",
       "4            -2.9                    -3.7           NaN       NaN   \n",
       "\n",
       "   All_star_selections  In_Hall_of_fame  height  weight    born  \n",
       "0                  NaN              NaN     NaN     NaN     NaN  \n",
       "1                  NaN              NaN     NaN     NaN     NaN  \n",
       "2                  2.0              0.0   203.0    92.0  1968.0  \n",
       "3                  3.0              0.0   201.0    97.0  1967.0  \n",
       "4                  NaN              NaN     NaN     NaN     NaN  \n",
       "\n",
       "[5 rows x 31 columns]"
      ],
      "text/html": [
       "<div>\n",
       "<style scoped>\n",
       "    .dataframe tbody tr th:only-of-type {\n",
       "        vertical-align: middle;\n",
       "    }\n",
       "\n",
       "    .dataframe tbody tr th {\n",
       "        vertical-align: top;\n",
       "    }\n",
       "\n",
       "    .dataframe thead th {\n",
       "        text-align: right;\n",
       "    }\n",
       "</style>\n",
       "<table border=\"1\" class=\"dataframe\">\n",
       "  <thead>\n",
       "    <tr style=\"text-align: right;\">\n",
       "      <th></th>\n",
       "      <th>id</th>\n",
       "      <th>year</th>\n",
       "      <th>rank</th>\n",
       "      <th>overall_pick</th>\n",
       "      <th>team</th>\n",
       "      <th>player</th>\n",
       "      <th>college</th>\n",
       "      <th>years_active</th>\n",
       "      <th>games</th>\n",
       "      <th>minutes_played</th>\n",
       "      <th>...</th>\n",
       "      <th>win_shares_per_48_minutes</th>\n",
       "      <th>box_plus_minus</th>\n",
       "      <th>value_over_replacement</th>\n",
       "      <th>Name</th>\n",
       "      <th>position</th>\n",
       "      <th>All_star_selections</th>\n",
       "      <th>In_Hall_of_fame</th>\n",
       "      <th>height</th>\n",
       "      <th>weight</th>\n",
       "      <th>born</th>\n",
       "    </tr>\n",
       "  </thead>\n",
       "  <tbody>\n",
       "    <tr>\n",
       "      <th>0</th>\n",
       "      <td>1</td>\n",
       "      <td>1989</td>\n",
       "      <td>1</td>\n",
       "      <td>1</td>\n",
       "      <td>SAC</td>\n",
       "      <td>Pervis Ellison</td>\n",
       "      <td>Louisville</td>\n",
       "      <td>11.0</td>\n",
       "      <td>474.0</td>\n",
       "      <td>11593.0</td>\n",
       "      <td>...</td>\n",
       "      <td>0.090</td>\n",
       "      <td>-0.5</td>\n",
       "      <td>4.4</td>\n",
       "      <td>NaN</td>\n",
       "      <td>NaN</td>\n",
       "      <td>NaN</td>\n",
       "      <td>NaN</td>\n",
       "      <td>NaN</td>\n",
       "      <td>NaN</td>\n",
       "      <td>NaN</td>\n",
       "    </tr>\n",
       "    <tr>\n",
       "      <th>1</th>\n",
       "      <td>2</td>\n",
       "      <td>1989</td>\n",
       "      <td>2</td>\n",
       "      <td>2</td>\n",
       "      <td>LAC</td>\n",
       "      <td>Danny Ferry</td>\n",
       "      <td>Duke</td>\n",
       "      <td>13.0</td>\n",
       "      <td>917.0</td>\n",
       "      <td>18133.0</td>\n",
       "      <td>...</td>\n",
       "      <td>0.092</td>\n",
       "      <td>-0.9</td>\n",
       "      <td>4.9</td>\n",
       "      <td>NaN</td>\n",
       "      <td>NaN</td>\n",
       "      <td>NaN</td>\n",
       "      <td>NaN</td>\n",
       "      <td>NaN</td>\n",
       "      <td>NaN</td>\n",
       "      <td>NaN</td>\n",
       "    </tr>\n",
       "    <tr>\n",
       "      <th>2</th>\n",
       "      <td>3</td>\n",
       "      <td>1989</td>\n",
       "      <td>3</td>\n",
       "      <td>3</td>\n",
       "      <td>SAS</td>\n",
       "      <td>Sean Elliott</td>\n",
       "      <td>Arizona</td>\n",
       "      <td>12.0</td>\n",
       "      <td>742.0</td>\n",
       "      <td>24502.0</td>\n",
       "      <td>...</td>\n",
       "      <td>0.109</td>\n",
       "      <td>0.2</td>\n",
       "      <td>13.5</td>\n",
       "      <td>Sean Elliott</td>\n",
       "      <td>F</td>\n",
       "      <td>2.0</td>\n",
       "      <td>0.0</td>\n",
       "      <td>203.0</td>\n",
       "      <td>92.0</td>\n",
       "      <td>1968.0</td>\n",
       "    </tr>\n",
       "    <tr>\n",
       "      <th>3</th>\n",
       "      <td>4</td>\n",
       "      <td>1989</td>\n",
       "      <td>4</td>\n",
       "      <td>4</td>\n",
       "      <td>MIA</td>\n",
       "      <td>Glen Rice</td>\n",
       "      <td>Michigan</td>\n",
       "      <td>15.0</td>\n",
       "      <td>1000.0</td>\n",
       "      <td>34985.0</td>\n",
       "      <td>...</td>\n",
       "      <td>0.122</td>\n",
       "      <td>0.8</td>\n",
       "      <td>24.9</td>\n",
       "      <td>Glen Rice</td>\n",
       "      <td>G</td>\n",
       "      <td>3.0</td>\n",
       "      <td>0.0</td>\n",
       "      <td>201.0</td>\n",
       "      <td>97.0</td>\n",
       "      <td>1967.0</td>\n",
       "    </tr>\n",
       "    <tr>\n",
       "      <th>4</th>\n",
       "      <td>5</td>\n",
       "      <td>1989</td>\n",
       "      <td>5</td>\n",
       "      <td>5</td>\n",
       "      <td>CHH</td>\n",
       "      <td>J.R. Reid</td>\n",
       "      <td>UNC</td>\n",
       "      <td>11.0</td>\n",
       "      <td>672.0</td>\n",
       "      <td>15370.0</td>\n",
       "      <td>...</td>\n",
       "      <td>0.070</td>\n",
       "      <td>-2.9</td>\n",
       "      <td>-3.7</td>\n",
       "      <td>NaN</td>\n",
       "      <td>NaN</td>\n",
       "      <td>NaN</td>\n",
       "      <td>NaN</td>\n",
       "      <td>NaN</td>\n",
       "      <td>NaN</td>\n",
       "      <td>NaN</td>\n",
       "    </tr>\n",
       "  </tbody>\n",
       "</table>\n",
       "<p>5 rows × 31 columns</p>\n",
       "</div>"
      ]
     },
     "execution_count": 205,
     "metadata": {},
     "output_type": "execute_result"
    }
   ],
   "execution_count": 205
  },
  {
   "metadata": {
    "ExecuteTime": {
     "end_time": "2025-06-10T09:19:53.722138Z",
     "start_time": "2025-06-10T09:19:53.715051Z"
    }
   },
   "cell_type": "code",
   "source": [
    "df = df.drop(df[df['years_active'].isna()].index)\n",
    "df = df.drop(df[df['games'].isna()].index)\n",
    "df = df.drop(columns=['college', 'team', 'rank', 'years_active', 'minutes_played'])"
   ],
   "id": "c6189777069b499f",
   "outputs": [],
   "execution_count": 206
  },
  {
   "metadata": {
    "ExecuteTime": {
     "end_time": "2025-06-10T09:19:53.737616Z",
     "start_time": "2025-06-10T09:19:53.727531Z"
    }
   },
   "cell_type": "code",
   "source": "df = df.drop(df[df['Name'].isna()].index)",
   "id": "688a2fc69c3f5838",
   "outputs": [],
   "execution_count": 207
  },
  {
   "metadata": {
    "ExecuteTime": {
     "end_time": "2025-06-10T09:19:53.752816Z",
     "start_time": "2025-06-10T09:19:53.744562Z"
    }
   },
   "cell_type": "code",
   "source": "df.isnull().sum()",
   "id": "9653a0d3693e2d73",
   "outputs": [
    {
     "data": {
      "text/plain": [
       "id                           0\n",
       "year                         0\n",
       "overall_pick                 0\n",
       "player                       0\n",
       "games                        0\n",
       "points                       0\n",
       "total_rebounds               0\n",
       "assists                      0\n",
       "field_goal_percentage        0\n",
       "3_point_percentage           0\n",
       "free_throw_percentage        0\n",
       "average_minutes_played       0\n",
       "points_per_game              0\n",
       "average_total_rebounds       0\n",
       "average_assists              0\n",
       "win_shares                   0\n",
       "win_shares_per_48_minutes    0\n",
       "box_plus_minus               0\n",
       "value_over_replacement       0\n",
       "Name                         0\n",
       "position                     0\n",
       "All_star_selections          0\n",
       "In_Hall_of_fame              0\n",
       "height                       0\n",
       "weight                       0\n",
       "born                         0\n",
       "dtype: int64"
      ]
     },
     "execution_count": 208,
     "metadata": {},
     "output_type": "execute_result"
    }
   ],
   "execution_count": 208
  },
  {
   "metadata": {
    "ExecuteTime": {
     "end_time": "2025-06-10T09:19:53.768385Z",
     "start_time": "2025-06-10T09:19:53.760283Z"
    }
   },
   "cell_type": "code",
   "source": "df.columns",
   "id": "ee8717e835af27ff",
   "outputs": [
    {
     "data": {
      "text/plain": [
       "Index(['id', 'year', 'overall_pick', 'player', 'games', 'points',\n",
       "       'total_rebounds', 'assists', 'field_goal_percentage',\n",
       "       '3_point_percentage', 'free_throw_percentage', 'average_minutes_played',\n",
       "       'points_per_game', 'average_total_rebounds', 'average_assists',\n",
       "       'win_shares', 'win_shares_per_48_minutes', 'box_plus_minus',\n",
       "       'value_over_replacement', 'Name', 'position', 'All_star_selections',\n",
       "       'In_Hall_of_fame', 'height', 'weight', 'born'],\n",
       "      dtype='object')"
      ]
     },
     "execution_count": 209,
     "metadata": {},
     "output_type": "execute_result"
    }
   ],
   "execution_count": 209
  },
  {
   "metadata": {
    "ExecuteTime": {
     "end_time": "2025-06-10T09:19:53.798873Z",
     "start_time": "2025-06-10T09:19:53.777931Z"
    }
   },
   "cell_type": "code",
   "source": [
    "df = df.drop(columns=['Name', 'born','height', 'weight'])\n",
    "df.columns"
   ],
   "id": "7961b5ef549c3975",
   "outputs": [
    {
     "data": {
      "text/plain": [
       "Index(['id', 'year', 'overall_pick', 'player', 'games', 'points',\n",
       "       'total_rebounds', 'assists', 'field_goal_percentage',\n",
       "       '3_point_percentage', 'free_throw_percentage', 'average_minutes_played',\n",
       "       'points_per_game', 'average_total_rebounds', 'average_assists',\n",
       "       'win_shares', 'win_shares_per_48_minutes', 'box_plus_minus',\n",
       "       'value_over_replacement', 'position', 'All_star_selections',\n",
       "       'In_Hall_of_fame'],\n",
       "      dtype='object')"
      ]
     },
     "execution_count": 210,
     "metadata": {},
     "output_type": "execute_result"
    }
   ],
   "execution_count": 210
  },
  {
   "metadata": {
    "ExecuteTime": {
     "end_time": "2025-06-10T09:19:53.814831Z",
     "start_time": "2025-06-10T09:19:53.806852Z"
    }
   },
   "cell_type": "code",
   "source": "final_test = df[df[\"In_Hall_of_fame\"] == 2]",
   "id": "45f30b52eb2646ec",
   "outputs": [],
   "execution_count": 211
  },
  {
   "metadata": {
    "ExecuteTime": {
     "end_time": "2025-06-10T09:19:53.830788Z",
     "start_time": "2025-06-10T09:19:53.820816Z"
    }
   },
   "cell_type": "code",
   "source": "df = df[df[\"In_Hall_of_fame\"] != 2]",
   "id": "79998b74b11ff08c",
   "outputs": [],
   "execution_count": 212
  },
  {
   "metadata": {
    "ExecuteTime": {
     "end_time": "2025-06-10T09:19:53.846745Z",
     "start_time": "2025-06-10T09:19:53.836773Z"
    }
   },
   "cell_type": "code",
   "source": [
    "features_to_drop = ['id', 'year', 'player', 'In_Hall_of_fame', 'position']\n",
    "X = df.drop(columns=features_to_drop, errors='ignore')\n",
    "y = df['In_Hall_of_fame']"
   ],
   "id": "422d31e49b56c746",
   "outputs": [],
   "execution_count": 213
  },
  {
   "metadata": {
    "ExecuteTime": {
     "end_time": "2025-06-10T09:19:54.001530Z",
     "start_time": "2025-06-10T09:19:53.865785Z"
    }
   },
   "cell_type": "code",
   "source": [
    "from sklearn.ensemble import RandomForestClassifier\n",
    "from sklearn.model_selection import train_test_split\n",
    "from sklearn.metrics import classification_report\n",
    "\n",
    "# Split for evaluation\n",
    "X_train, X_val, y_train, y_val = train_test_split(X, y, test_size=0.2, random_state=42)\n",
    "\n",
    "# Model\n",
    "clf = RandomForestClassifier(random_state=42)\n",
    "clf.fit(X_train, y_train)\n",
    "\n",
    "# Validation performance\n",
    "y_pred = clf.predict(X_val)\n",
    "print(classification_report(y_val, y_pred))\n"
   ],
   "id": "7bfe717f4a7e870",
   "outputs": [
    {
     "name": "stdout",
     "output_type": "stream",
     "text": [
      "              precision    recall  f1-score   support\n",
      "\n",
      "         0.0       0.95      1.00      0.97        19\n",
      "         1.0       1.00      0.67      0.80         3\n",
      "\n",
      "    accuracy                           0.95        22\n",
      "   macro avg       0.97      0.83      0.89        22\n",
      "weighted avg       0.96      0.95      0.95        22\n",
      "\n"
     ]
    }
   ],
   "execution_count": 214
  },
  {
   "metadata": {
    "ExecuteTime": {
     "end_time": "2025-06-10T09:19:54.266108Z",
     "start_time": "2025-06-10T09:19:54.014293Z"
    }
   },
   "cell_type": "code",
   "source": [
    "from sklearn.model_selection import train_test_split\n",
    "from sklearn.ensemble import RandomForestClassifier\n",
    "import numpy as np\n",
    "import matplotlib.pyplot as plt\n",
    "from sklearn.metrics import precision_recall_curve, f1_score\n",
    "\n",
    "X_train, X_test, y_train, y_test = train_test_split(X, y, test_size=0.2, random_state=42)\n",
    "\n",
    "clf = RandomForestClassifier(random_state=42)\n",
    "\n",
    "# Train your model as usual\n",
    "clf.fit(X_train, y_train)\n",
    "\n",
    "# Get predicted probabilities for class 1 (HOF)\n",
    "y_probs = clf.predict_proba(X_test)[:, 1]\n",
    "\n",
    "# Evaluate precision and recall at different thresholds\n",
    "precisions, recalls, thresholds = precision_recall_curve(y_test, y_probs)\n",
    "\n",
    "# Compute F1 score for each threshold\n",
    "f1_scores = 2 * (precisions * recalls) / (precisions + recalls + 1e-6)\n",
    "\n",
    "# Plot it\n",
    "plt.figure(figsize=(10, 6))\n",
    "plt.plot(thresholds, precisions[:-1], label='Precision', marker='.')\n",
    "plt.plot(thresholds, recalls[:-1], label='Recall', marker='.')\n",
    "plt.plot(thresholds, f1_scores[:-1], label='F1 Score', marker='.')\n",
    "plt.xlabel('Threshold')\n",
    "plt.ylabel('Score')\n",
    "plt.title('Precision, Recall, and F1 vs Threshold')\n",
    "plt.legend()\n",
    "plt.grid()\n",
    "plt.show()\n"
   ],
   "id": "6c8d4444cea3ff48",
   "outputs": [
    {
     "data": {
      "text/plain": [
       "<Figure size 1000x600 with 1 Axes>"
      ],
      "image/png": "[encoded data removed]"
     },
     "metadata": {},
     "output_type": "display_data"
    }
   ],
   "execution_count": 215
  },
  {
   "metadata": {
    "ExecuteTime": {
     "end_time": "2025-06-10T09:19:54.297687Z",
     "start_time": "2025-06-10T09:19:54.277331Z"
    }
   },
   "cell_type": "code",
   "source": [
    "# Choose a threshold, say the one maximizing F1\n",
    "best_idx = np.argmax(f1_scores)\n",
    "best_threshold = thresholds[best_idx]\n",
    "print(\"Best Threshold:\", best_threshold)\n",
    "\n",
    "# Apply threshold\n",
    "y_pred_custom = (y_probs >= best_threshold).astype(int)\n"
   ],
   "id": "a404961b0502d284",
   "outputs": [
    {
     "name": "stdout",
     "output_type": "stream",
     "text": [
      "Best Threshold: 0.45\n"
     ]
    }
   ],
   "execution_count": 216
  },
  {
   "metadata": {
    "ExecuteTime": {
     "end_time": "2025-06-10T09:19:54.329398Z",
     "start_time": "2025-06-10T09:19:54.308887Z"
    }
   },
   "cell_type": "code",
   "source": [
    "from sklearn.metrics import classification_report\n",
    "\n",
    "# Apply threshold\n",
    "y_pred_custom = (y_probs >= 0.45).astype(int)\n",
    "\n",
    "# Evaluate\n",
    "print(classification_report(y_test, y_pred_custom))\n"
   ],
   "id": "911a9b88e5daab61",
   "outputs": [
    {
     "name": "stdout",
     "output_type": "stream",
     "text": [
      "              precision    recall  f1-score   support\n",
      "\n",
      "         0.0       1.00      1.00      1.00        19\n",
      "         1.0       1.00      1.00      1.00         3\n",
      "\n",
      "    accuracy                           1.00        22\n",
      "   macro avg       1.00      1.00      1.00        22\n",
      "weighted avg       1.00      1.00      1.00        22\n",
      "\n"
     ]
    }
   ],
   "execution_count": 217
  },
  {
   "metadata": {},
   "cell_type": "markdown",
   "source": "The code below finds a threshold value above which a player can be inducted or not.",
   "id": "f372fdbd431713b9"
  },
  {
   "metadata": {
    "ExecuteTime": {
     "end_time": "2025-06-10T09:19:54.610517Z",
     "start_time": "2025-06-10T09:19:54.340407Z"
    }
   },
   "cell_type": "code",
   "source": [
    "import pandas as pd\n",
    "import numpy as np\n",
    "from sklearn.ensemble import RandomForestClassifier\n",
    "from sklearn.model_selection import train_test_split\n",
    "from sklearn.metrics import precision_recall_curve, classification_report\n",
    "import matplotlib.pyplot as plt\n",
    "\n",
    "# Step 1: Filter only rows where In_Hall_of_fame is 0 or 1\n",
    "df_binary = df[df['In_Hall_of_fame'].isin([0, 1])].copy()\n",
    "\n",
    "# Step 2: Define features and target\n",
    "features_to_drop = ['id', 'year', 'player', 'In_Hall_of_fame', 'position']\n",
    "X = df_binary.drop(columns=features_to_drop, errors='ignore').fillna(0)\n",
    "y = df_binary['In_Hall_of_fame']\n",
    "\n",
    "# Step 3: Train-test split\n",
    "X_train, X_test, y_train, y_test = train_test_split(\n",
    "    X, y, test_size=0.2, stratify=y, random_state=42\n",
    ")\n",
    "\n",
    "# Step 4: Train the model\n",
    "clf = RandomForestClassifier(class_weight='balanced', random_state=42)\n",
    "clf.fit(X_train, y_train)\n",
    "\n",
    "# Step 5: Get probabilities and find best threshold\n",
    "y_probs = clf.predict_proba(X_test)[:, 1]\n",
    "precisions, recalls, thresholds = precision_recall_curve(y_test, y_probs)\n",
    "f1_scores = 2 * (precisions * recalls) / (precisions + recalls + 1e-6)\n",
    "best_idx = np.argmax(f1_scores)\n",
    "best_threshold = thresholds[best_idx]\n",
    "\n",
    "# Step 6: Evaluate performance at best threshold\n",
    "y_pred_custom = (y_probs >= best_threshold).astype(int)\n",
    "print(\"Best Threshold:\", round(best_threshold, 2))\n",
    "print(\"\\nClassification Report @ Best Threshold:\\n\")\n",
    "print(classification_report(y_test, y_pred_custom))\n",
    "\n",
    "# Step 7: Optional plot\n",
    "plt.figure(figsize=(10, 6))\n",
    "plt.plot(thresholds, precisions[:-1], label='Precision')\n",
    "plt.plot(thresholds, recalls[:-1], label='Recall')\n",
    "plt.plot(thresholds, f1_scores[:-1], label='F1 Score')\n",
    "plt.axvline(best_threshold, color='r', linestyle='--', label=f'Best Threshold = {round(best_threshold, 2)}')\n",
    "plt.xlabel('Threshold')\n",
    "plt.ylabel('Score')\n",
    "plt.title('Threshold Tuning for HOF Prediction')\n",
    "plt.legend()\n",
    "plt.grid()\n",
    "plt.show()\n"
   ],
   "id": "57bf902ad6e91c69",
   "outputs": [
    {
     "name": "stdout",
     "output_type": "stream",
     "text": [
      "Best Threshold: 0.37\n",
      "\n",
      "Classification Report @ Best Threshold:\n",
      "\n",
      "              precision    recall  f1-score   support\n",
      "\n",
      "         0.0       1.00      1.00      1.00        18\n",
      "         1.0       1.00      1.00      1.00         4\n",
      "\n",
      "    accuracy                           1.00        22\n",
      "   macro avg       1.00      1.00      1.00        22\n",
      "weighted avg       1.00      1.00      1.00        22\n",
      "\n"
     ]
    },
    {
     "data": {
      "text/plain": [
       "<Figure size 1000x600 with 1 Axes>"
      ],
      "image/png": "[encoded data removed]"
     },
     "metadata": {},
     "output_type": "display_data"
    }
   ],
   "execution_count": 218
  },
  {
   "metadata": {
    "ExecuteTime": {
     "end_time": "2025-06-10T09:19:54.656182Z",
     "start_time": "2025-06-10T09:19:54.631424Z"
    }
   },
   "cell_type": "code",
   "source": [
    "# Step 1: Filter active players\n",
    "df_active = final_test\n",
    "\n",
    "# Step 2: Prepare features (same processing as before)\n",
    "X_active = df_active.drop(columns=features_to_drop, errors='ignore').fillna(0)\n",
    "\n",
    "# Step 3: Predict probabilities using trained model\n",
    "active_probs = clf.predict_proba(X_active)[:, 1]\n",
    "\n",
    "# Step 4: Apply threshold of 0.37 to make final predictions\n",
    "df_active['HOF_probability'] = active_probs\n",
    "df_active['HOF_predicted'] = (active_probs >= 0.37).astype(int)\n",
    "\n",
    "# Step 5: Sort results for analysis\n",
    "df_active_sorted = df_active.sort_values(by='HOF_probability', ascending=False)\n",
    "print(df_active_sorted[['player', 'HOF_probability', 'HOF_predicted']].head(10))\n"
   ],
   "id": "623268d1bb5c26f5",
   "outputs": [
    {
     "name": "stdout",
     "output_type": "stream",
     "text": [
      "                 player  HOF_probability  HOF_predicted\n",
      "1086  Russell Westbrook             0.84              1\n",
      "1024       Kevin Durant             0.82              1\n",
      "785        LeBron James             0.81              1\n",
      "787     Carmelo Anthony             0.76              1\n",
      "1145       James Harden             0.75              1\n",
      "1323      Anthony Davis             0.74              1\n",
      "964   LaMarcus Aldridge             0.72              1\n",
      "906          Chris Paul             0.69              1\n",
      "844       Dwight Howard             0.68              1\n",
      "1149      Stephen Curry             0.50              1\n"
     ]
    }
   ],
   "execution_count": 219
  },
  {
   "metadata": {
    "ExecuteTime": {
     "end_time": "2025-06-10T09:19:54.672044Z",
     "start_time": "2025-06-10T09:19:54.663591Z"
    }
   },
   "cell_type": "code",
   "source": "print(df_active[['player', 'HOF_probability', 'HOF_predicted']].head(10))",
   "id": "e748e335f6fe768a",
   "outputs": [
    {
     "name": "stdout",
     "output_type": "stream",
     "text": [
      "                 player  HOF_probability  HOF_predicted\n",
      "785        LeBron James             0.81              1\n",
      "787     Carmelo Anthony             0.76              1\n",
      "844       Dwight Howard             0.68              1\n",
      "852      Andre Iguodala             0.18              0\n",
      "906          Chris Paul             0.69              1\n",
      "964   LaMarcus Aldridge             0.72              1\n",
      "983         Rajon Rondo             0.07              0\n",
      "986          Kyle Lowry             0.13              0\n",
      "1009       Paul Millsap             0.11              0\n",
      "1024       Kevin Durant             0.82              1\n"
     ]
    }
   ],
   "execution_count": 220
  },
  {
   "metadata": {
    "ExecuteTime": {
     "end_time": "2025-06-10T09:28:39.814035Z",
     "start_time": "2025-06-10T09:28:39.731626Z"
    }
   },
   "cell_type": "code",
   "source": "df_active_sorted.to_csv('hof_predictions.csv', index=False)",
   "id": "a82137cf455fe2dd",
   "outputs": [],
   "execution_count": 221
  }
 ],
 "metadata": {
  "kernelspec": {
   "display_name": "Python 3",
   "language": "python",
   "name": "python3"
  },
  "language_info": {
   "codemirror_mode": {
    "name": "ipython",
    "version": 2
   },
   "file_extension": ".py",
   "mimetype": "text/x-python",
   "name": "python",
   "nbconvert_exporter": "python",
   "pygments_lexer": "ipython2",
   "version": "2.7.6"
  }
 },
 "nbformat": 4,
 "nbformat_minor": 5
}
